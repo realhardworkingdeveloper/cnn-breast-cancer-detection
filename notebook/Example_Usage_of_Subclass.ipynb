{
  "nbformat": 4,
  "nbformat_minor": 0,
  "metadata": {
    "colab": {
      "name": "Example Usage of CNN Autoencoder Breast Cancer Image Retrieval.ipynb",
      "provenance": [],
      "collapsed_sections": [
        "CDYVtH0HehRw",
        "-fJ7pPoz2opO",
        "WUvGKck53sP4",
        "YiaL-r9o3wMW",
        "mEKpKr-G6VAO"
      ]
    },
    "kernelspec": {
      "name": "python3",
      "display_name": "Python 3"
    },
    "language_info": {
      "name": "python"
    },
    "accelerator": "GPU"
  },
  "cells": [
    {
      "cell_type": "markdown",
      "metadata": {
        "id": "qp-O9pEp4ty2"
      },
      "source": [
        "\n",
        "\n",
        "```\n",
        "CNN Based Autoencoder Application in Breast Cancer Image Retrieval 🔬\n",
        "- In this case I already splitted dataset \n",
        "- Please check your drive first and change where you wanna go use\n",
        "- This Is example usage dataset 40X Magnification with Subclass label\n",
        "- All cell process must be done sequencely \n",
        "- I know maybe there is cumbersome case, Feel free to ask at kharisma.muzaki@gmail.com 👌\n",
        "```\n",
        "\n"
      ]
    },
    {
      "cell_type": "markdown",
      "metadata": {
        "id": "CDYVtH0HehRw"
      },
      "source": [
        "# Load Drive and Depedency"
      ]
    },
    {
      "cell_type": "code",
      "metadata": {
        "colab": {
          "base_uri": "https://localhost:8080/"
        },
        "id": "NtU2LZ_1xFse",
        "outputId": "e594ef66-0635-4605-adea-05844c694f57"
      },
      "source": [
        "from google.colab import drive\n",
        "drive.mount('/content/drive')\n",
        "# CHANGE BASED ROOT DIR\n",
        "%cd '/content/drive/MyDrive/Image Retrieval'"
      ],
      "execution_count": 1,
      "outputs": [
        {
          "output_type": "stream",
          "name": "stdout",
          "text": [
            "Drive already mounted at /content/drive; to attempt to forcibly remount, call drive.mount(\"/content/drive\", force_remount=True).\n",
            "/content/drive/MyDrive/Image Retrieval\n"
          ]
        }
      ]
    },
    {
      "cell_type": "markdown",
      "metadata": {
        "id": "-fJ7pPoz2opO"
      },
      "source": [
        "## Depedency Library"
      ]
    },
    {
      "cell_type": "code",
      "metadata": {
        "id": "SowRlZK22ryn"
      },
      "source": [
        "import numpy as np\n",
        "import json\n",
        "import os\n",
        "import cv2\n",
        "import copy\n",
        "import sklearn.metrics as metric\n",
        "import pandas as pd\n",
        "\n",
        "from tensorflow.keras import layers\n",
        "from tensorflow.keras.models import Model\n",
        "from tensorflow.keras import backend as K\n",
        "from tensorflow.keras.optimizers import Adam\n",
        "from tensorflow.keras.callbacks import ModelCheckpoint \n",
        "\n",
        "import matplotlib.pyplot as plt\n",
        "import matplotlib"
      ],
      "execution_count": 2,
      "outputs": []
    },
    {
      "cell_type": "markdown",
      "metadata": {
        "id": "WUvGKck53sP4"
      },
      "source": [
        "# Training Stage"
      ]
    },
    {
      "cell_type": "markdown",
      "metadata": {
        "id": "7k9p8BZ6z3yW"
      },
      "source": [
        "## Core Model AutoEncoder"
      ]
    },
    {
      "cell_type": "code",
      "metadata": {
        "id": "ZnX3Fr56z91G"
      },
      "source": [
        "class ConvAutoEncoder:\n",
        "    \"\"\"\n",
        "    Core Convolutional AutoEncoder\n",
        "    This class included with build method you can adjust of width height and depth of image\n",
        "    default filters 128, and latent dimension 48\n",
        "    \"\"\"\n",
        "    @staticmethod\n",
        "    def build(width, height, depth, filters=(128,), latent_dim=48):\n",
        "        input_shape = (height, width, depth)\n",
        "        channel_dim = -1\n",
        "        inputs = layers.Input(shape=input_shape)\n",
        "        x = inputs\n",
        "        # Encoder layer\n",
        "        for f in filters:\n",
        "            x = layers.Conv2D(f, (3, 3), strides=2, padding='same')(x)\n",
        "            x = layers.LeakyReLU(alpha=0.2)(x)\n",
        "            x = layers.BatchNormalization(axis=channel_dim, name='enc_filter_' + str(f))(x)\n",
        "        volume_size = K.int_shape(x)\n",
        "        x = layers.Flatten()(x)\n",
        "        # Latent layer\n",
        "        latent = layers.Dense(latent_dim, name=\"encoded\")(x)\n",
        "        # Decoder layer\n",
        "        x = layers.Dense(np.prod(volume_size[1:]))(latent)\n",
        "        x = layers.Reshape((volume_size[1], volume_size[2], volume_size[3]))(x)\n",
        "        # Reverse on decoder\n",
        "        for f in filters[::-1]:\n",
        "            x = layers.Conv2DTranspose(f, (3, 3), strides=2, padding='same')(x)\n",
        "            x = layers.LeakyReLU(alpha=0.2)(x)\n",
        "            x = layers.BatchNormalization(axis=channel_dim, name='dec_filter_' + str(f))(x)\n",
        "        x = layers.Conv2DTranspose(depth, (3, 3), padding=\"same\")(x)\n",
        "        outputs = layers.Activation(\"sigmoid\", name=\"decoded\")(x)\n",
        "        auto_encoder = Model(inputs, outputs, name=\"auto_encoder\")\n",
        "        return auto_encoder"
      ],
      "execution_count": 3,
      "outputs": []
    },
    {
      "cell_type": "markdown",
      "metadata": {
        "id": "4ObFS31Z1VzF"
      },
      "source": [
        ""
      ]
    },
    {
      "cell_type": "markdown",
      "metadata": {
        "id": "iOFbuzHJ0mf2"
      },
      "source": [
        "## Definition of hyperparameter\n"
      ]
    },
    {
      "cell_type": "code",
      "metadata": {
        "id": "C8IXMoVG0xB9"
      },
      "source": [
        "EPOCHS = 50\n",
        "INIT_LR = 1e-3\n",
        "BS = 16\n",
        "IMAGE_SIZE = (256, 256)\n",
        "checkpoint_path = \"training_1_40_subclass_cp/cp.ckpt\"\n",
        "feature_path = \"training_1_40_subclass_feature.json\"\n",
        "model_path = \"training_1_40_subclass_model.h5\"\n",
        "history_path = \"training_1_40_subclass_history.json\"\n",
        "magnification = \"40X\"\n",
        "base_dataset = \"subclass_scenario\"\n",
        "class_dir = ['tubular_adenoma', 'phyllodes_tumor', 'papillary_carcinoma',\n",
        "             'mucinous_carcinoma', 'lobular_carcinoma', 'fibroadenoma',\n",
        "             'ductal_carcinoma', 'adenosis']"
      ],
      "execution_count": 4,
      "outputs": []
    },
    {
      "cell_type": "markdown",
      "metadata": {
        "id": "uT5Eja5J0_uW"
      },
      "source": [
        "## Load Image\n",
        "\n",
        "\n",
        "```\n",
        "# Load all available file first then process to load images into variable\n",
        "```\n",
        "\n"
      ]
    },
    {
      "cell_type": "code",
      "metadata": {
        "colab": {
          "base_uri": "https://localhost:8080/"
        },
        "id": "AOufijR61LoF",
        "outputId": "947f2cc9-4022-4f8b-ac6e-8538b214af5a"
      },
      "source": [
        "print(\"[INFO] indexing file images BreaKHis dataset...\")\n",
        "type_dataset = ['val', 'train']\n",
        "dataset_train = []\n",
        "dataset_val = []\n",
        "for type_set in type_dataset:\n",
        "    for class_item in class_dir:\n",
        "        cur_dir = os.path.join(base_dataset, type_set, magnification ,class_item)\n",
        "        for file in os.listdir(cur_dir):\n",
        "            if type_set == 'train':\n",
        "                dataset_train.append(os.path.join(cur_dir, file))\n",
        "            else:\n",
        "                dataset_val.append(os.path.join(cur_dir, file))\n",
        "\n",
        "print(\"[INFO] load images BreaKHis dataset...\")\n",
        "#  load images\n",
        "train_images = []\n",
        "val_images = []\n",
        "for type_set in type_dataset:\n",
        "    cur_dataset = dataset_train if type_set == 'train' else dataset_val\n",
        "    for image_path in cur_dataset:\n",
        "        if \".png\" in image_path:\n",
        "            image = cv2.imread(image_path)\n",
        "            image = cv2.resize(image, IMAGE_SIZE)\n",
        "            if type_set == 'train':\n",
        "                train_images.append(image)\n",
        "            else:\n",
        "                val_images.append(image)"
      ],
      "execution_count": 5,
      "outputs": [
        {
          "output_type": "stream",
          "name": "stdout",
          "text": [
            "[INFO] indexing file images BreaKHis dataset...\n",
            "[INFO] load images BreaKHis dataset...\n"
          ]
        }
      ]
    },
    {
      "cell_type": "markdown",
      "metadata": {
        "id": "JfUuMzmi1wDX"
      },
      "source": [
        "## Normalization"
      ]
    },
    {
      "cell_type": "code",
      "metadata": {
        "colab": {
          "base_uri": "https://localhost:8080/"
        },
        "id": "v2QoMnHC1zWV",
        "outputId": "a4f93ff6-3d5d-42f1-9ebe-baf66730680e"
      },
      "source": [
        "# normalization\n",
        "print(\"[INFO] normalization...\")\n",
        "train_x = np.array(train_images).astype(\"float32\") / 255.0\n",
        "val_x = np.array(val_images).astype(\"float32\") / 255.0"
      ],
      "execution_count": 6,
      "outputs": [
        {
          "output_type": "stream",
          "name": "stdout",
          "text": [
            "[INFO] normalization...\n"
          ]
        }
      ]
    },
    {
      "cell_type": "markdown",
      "metadata": {
        "id": "ahHRLqBo11pO"
      },
      "source": [
        "## Buiding Model based ConvAutoEncoder Class"
      ]
    },
    {
      "cell_type": "code",
      "metadata": {
        "colab": {
          "base_uri": "https://localhost:8080/"
        },
        "id": "aFgpsuG814_2",
        "outputId": "61460564-4df5-41fd-8231-8fe55338b9a8"
      },
      "source": [
        "print(\"[INFO] building auto encoder...\")\n",
        "auto_encoder = ConvAutoEncoder.build(IMAGE_SIZE[0], IMAGE_SIZE[1], 3)\n",
        "opt = Adam(learning_rate=INIT_LR, decay=INIT_LR / EPOCHS)\n",
        "checkpoint_callback = ModelCheckpoint(\n",
        "    filepath=checkpoint_path,\n",
        "    save_weights_only=True,\n",
        "    monitor=\"val_loss\",\n",
        "    verbose = 1,\n",
        "    mode='min',\n",
        "    save_best_only=True)\n",
        "auto_encoder.compile(loss=\"mse\", optimizer=opt)\n",
        "auto_encoder.summary()"
      ],
      "execution_count": 7,
      "outputs": [
        {
          "output_type": "stream",
          "name": "stdout",
          "text": [
            "[INFO] building auto encoder...\n",
            "Model: \"auto_encoder\"\n",
            "_________________________________________________________________\n",
            "Layer (type)                 Output Shape              Param #   \n",
            "=================================================================\n",
            "input_1 (InputLayer)         [(None, 256, 256, 3)]     0         \n",
            "_________________________________________________________________\n",
            "conv2d (Conv2D)              (None, 128, 128, 128)     3584      \n",
            "_________________________________________________________________\n",
            "leaky_re_lu (LeakyReLU)      (None, 128, 128, 128)     0         \n",
            "_________________________________________________________________\n",
            "enc_filter_128 (BatchNormali (None, 128, 128, 128)     512       \n",
            "_________________________________________________________________\n",
            "flatten (Flatten)            (None, 2097152)           0         \n",
            "_________________________________________________________________\n",
            "encoded (Dense)              (None, 48)                100663344 \n",
            "_________________________________________________________________\n",
            "dense (Dense)                (None, 2097152)           102760448 \n",
            "_________________________________________________________________\n",
            "reshape (Reshape)            (None, 128, 128, 128)     0         \n",
            "_________________________________________________________________\n",
            "conv2d_transpose (Conv2DTran (None, 256, 256, 128)     147584    \n",
            "_________________________________________________________________\n",
            "leaky_re_lu_1 (LeakyReLU)    (None, 256, 256, 128)     0         \n",
            "_________________________________________________________________\n",
            "dec_filter_128 (BatchNormali (None, 256, 256, 128)     512       \n",
            "_________________________________________________________________\n",
            "conv2d_transpose_1 (Conv2DTr (None, 256, 256, 3)       3459      \n",
            "_________________________________________________________________\n",
            "decoded (Activation)         (None, 256, 256, 3)       0         \n",
            "=================================================================\n",
            "Total params: 203,579,443\n",
            "Trainable params: 203,578,931\n",
            "Non-trainable params: 512\n",
            "_________________________________________________________________\n"
          ]
        }
      ]
    },
    {
      "cell_type": "markdown",
      "metadata": {
        "id": "AHk07pZL2DdQ"
      },
      "source": [
        "## Training The Model"
      ]
    },
    {
      "cell_type": "code",
      "metadata": {
        "id": "iR1qEEyX2J8-",
        "colab": {
          "base_uri": "https://localhost:8080/"
        },
        "outputId": "4121ac69-117f-420a-a532-55f0ee44d0f5"
      },
      "source": [
        "# train the convolutional auto encoder\n",
        "print(\"[INFO] training auto encoder...\")\n",
        "H = auto_encoder.fit(\n",
        "    train_x, train_x,\n",
        "    shuffle=True,\n",
        "    validation_data=(val_x, val_x),\n",
        "    epochs=EPOCHS,\n",
        "    callbacks = [checkpoint_callback], batch_size=BS)"
      ],
      "execution_count": 8,
      "outputs": [
        {
          "output_type": "stream",
          "name": "stdout",
          "text": [
            "[INFO] training auto encoder...\n",
            "Epoch 1/50\n",
            "102/102 [==============================] - 72s 675ms/step - loss: 0.0405 - val_loss: 0.0289\n",
            "\n",
            "Epoch 00001: val_loss improved from inf to 0.02892, saving model to training_1_400_subclass_cp/cp.ckpt\n",
            "Epoch 2/50\n",
            "102/102 [==============================] - 69s 672ms/step - loss: 0.0117 - val_loss: 0.0181\n",
            "\n",
            "Epoch 00002: val_loss improved from 0.02892 to 0.01808, saving model to training_1_400_subclass_cp/cp.ckpt\n",
            "Epoch 3/50\n",
            "102/102 [==============================] - 70s 683ms/step - loss: 0.0106 - val_loss: 0.0173\n",
            "\n",
            "Epoch 00003: val_loss improved from 0.01808 to 0.01728, saving model to training_1_400_subclass_cp/cp.ckpt\n",
            "Epoch 4/50\n",
            "102/102 [==============================] - 68s 669ms/step - loss: 0.0103 - val_loss: 0.0138\n",
            "\n",
            "Epoch 00004: val_loss improved from 0.01728 to 0.01378, saving model to training_1_400_subclass_cp/cp.ckpt\n",
            "Epoch 5/50\n",
            "102/102 [==============================] - 69s 675ms/step - loss: 0.0102 - val_loss: 0.0115\n",
            "\n",
            "Epoch 00005: val_loss improved from 0.01378 to 0.01151, saving model to training_1_400_subclass_cp/cp.ckpt\n",
            "Epoch 6/50\n",
            "102/102 [==============================] - 69s 676ms/step - loss: 0.0100 - val_loss: 0.0106\n",
            "\n",
            "Epoch 00006: val_loss improved from 0.01151 to 0.01065, saving model to training_1_400_subclass_cp/cp.ckpt\n",
            "Epoch 7/50\n",
            "102/102 [==============================] - 69s 679ms/step - loss: 0.0100 - val_loss: 0.0100\n",
            "\n",
            "Epoch 00007: val_loss improved from 0.01065 to 0.01001, saving model to training_1_400_subclass_cp/cp.ckpt\n",
            "Epoch 8/50\n",
            "102/102 [==============================] - 69s 675ms/step - loss: 0.0099 - val_loss: 0.0106\n",
            "\n",
            "Epoch 00008: val_loss did not improve from 0.01001\n",
            "Epoch 9/50\n",
            "102/102 [==============================] - 69s 675ms/step - loss: 0.0098 - val_loss: 0.0097\n",
            "\n",
            "Epoch 00009: val_loss improved from 0.01001 to 0.00975, saving model to training_1_400_subclass_cp/cp.ckpt\n",
            "Epoch 10/50\n",
            "102/102 [==============================] - 70s 681ms/step - loss: 0.0097 - val_loss: 0.0121\n",
            "\n",
            "Epoch 00010: val_loss did not improve from 0.00975\n",
            "Epoch 11/50\n",
            "102/102 [==============================] - 69s 676ms/step - loss: 0.0096 - val_loss: 0.0095\n",
            "\n",
            "Epoch 00011: val_loss improved from 0.00975 to 0.00954, saving model to training_1_400_subclass_cp/cp.ckpt\n",
            "Epoch 12/50\n",
            "102/102 [==============================] - 69s 677ms/step - loss: 0.0096 - val_loss: 0.0100\n",
            "\n",
            "Epoch 00012: val_loss did not improve from 0.00954\n",
            "Epoch 13/50\n",
            "102/102 [==============================] - 68s 671ms/step - loss: 0.0095 - val_loss: 0.0104\n",
            "\n",
            "Epoch 00013: val_loss did not improve from 0.00954\n",
            "Epoch 14/50\n",
            "102/102 [==============================] - 68s 668ms/step - loss: 0.0094 - val_loss: 0.0100\n",
            "\n",
            "Epoch 00014: val_loss did not improve from 0.00954\n",
            "Epoch 15/50\n",
            "102/102 [==============================] - 68s 667ms/step - loss: 0.0093 - val_loss: 0.0103\n",
            "\n",
            "Epoch 00015: val_loss did not improve from 0.00954\n",
            "Epoch 16/50\n",
            "102/102 [==============================] - 68s 665ms/step - loss: 0.0092 - val_loss: 0.0096\n",
            "\n",
            "Epoch 00016: val_loss did not improve from 0.00954\n",
            "Epoch 17/50\n",
            "102/102 [==============================] - 69s 675ms/step - loss: 0.0092 - val_loss: 0.0107\n",
            "\n",
            "Epoch 00017: val_loss did not improve from 0.00954\n",
            "Epoch 18/50\n",
            "102/102 [==============================] - 69s 673ms/step - loss: 0.0091 - val_loss: 0.0099\n",
            "\n",
            "Epoch 00018: val_loss did not improve from 0.00954\n",
            "Epoch 19/50\n",
            "102/102 [==============================] - 69s 673ms/step - loss: 0.0090 - val_loss: 0.0094\n",
            "\n",
            "Epoch 00019: val_loss improved from 0.00954 to 0.00941, saving model to training_1_400_subclass_cp/cp.ckpt\n",
            "Epoch 20/50\n",
            "102/102 [==============================] - 70s 685ms/step - loss: 0.0089 - val_loss: 0.0104\n",
            "\n",
            "Epoch 00020: val_loss did not improve from 0.00941\n",
            "Epoch 21/50\n",
            "102/102 [==============================] - 69s 677ms/step - loss: 0.0088 - val_loss: 0.0111\n",
            "\n",
            "Epoch 00021: val_loss did not improve from 0.00941\n",
            "Epoch 22/50\n",
            "102/102 [==============================] - 69s 675ms/step - loss: 0.0088 - val_loss: 0.0095\n",
            "\n",
            "Epoch 00022: val_loss did not improve from 0.00941\n",
            "Epoch 23/50\n",
            "102/102 [==============================] - 69s 675ms/step - loss: 0.0085 - val_loss: 0.0099\n",
            "\n",
            "Epoch 00023: val_loss did not improve from 0.00941\n",
            "Epoch 24/50\n",
            "102/102 [==============================] - 68s 666ms/step - loss: 0.0085 - val_loss: 0.0101\n",
            "\n",
            "Epoch 00024: val_loss did not improve from 0.00941\n",
            "Epoch 25/50\n",
            "102/102 [==============================] - 68s 667ms/step - loss: 0.0082 - val_loss: 0.0105\n",
            "\n",
            "Epoch 00025: val_loss did not improve from 0.00941\n",
            "Epoch 26/50\n",
            "102/102 [==============================] - 68s 667ms/step - loss: 0.0081 - val_loss: 0.0097\n",
            "\n",
            "Epoch 00026: val_loss did not improve from 0.00941\n",
            "Epoch 27/50\n",
            "102/102 [==============================] - 68s 667ms/step - loss: 0.0078 - val_loss: 0.0100\n",
            "\n",
            "Epoch 00027: val_loss did not improve from 0.00941\n",
            "Epoch 28/50\n",
            "102/102 [==============================] - 68s 666ms/step - loss: 0.0077 - val_loss: 0.0097\n",
            "\n",
            "Epoch 00028: val_loss did not improve from 0.00941\n",
            "Epoch 29/50\n",
            "102/102 [==============================] - 69s 674ms/step - loss: 0.0076 - val_loss: 0.0101\n",
            "\n",
            "Epoch 00029: val_loss did not improve from 0.00941\n",
            "Epoch 30/50\n",
            "102/102 [==============================] - 68s 667ms/step - loss: 0.0075 - val_loss: 0.0102\n",
            "\n",
            "Epoch 00030: val_loss did not improve from 0.00941\n",
            "Epoch 31/50\n",
            "102/102 [==============================] - 68s 668ms/step - loss: 0.0074 - val_loss: 0.0107\n",
            "\n",
            "Epoch 00031: val_loss did not improve from 0.00941\n",
            "Epoch 32/50\n",
            "102/102 [==============================] - 69s 674ms/step - loss: 0.0071 - val_loss: 0.0103\n",
            "\n",
            "Epoch 00032: val_loss did not improve from 0.00941\n",
            "Epoch 33/50\n",
            "102/102 [==============================] - 69s 674ms/step - loss: 0.0068 - val_loss: 0.0102\n",
            "\n",
            "Epoch 00033: val_loss did not improve from 0.00941\n",
            "Epoch 34/50\n",
            "102/102 [==============================] - 69s 674ms/step - loss: 0.0066 - val_loss: 0.0104\n",
            "\n",
            "Epoch 00034: val_loss did not improve from 0.00941\n",
            "Epoch 35/50\n",
            "102/102 [==============================] - 68s 666ms/step - loss: 0.0065 - val_loss: 0.0120\n",
            "\n",
            "Epoch 00035: val_loss did not improve from 0.00941\n",
            "Epoch 36/50\n",
            "102/102 [==============================] - 68s 666ms/step - loss: 0.0065 - val_loss: 0.0108\n",
            "\n",
            "Epoch 00036: val_loss did not improve from 0.00941\n",
            "Epoch 37/50\n",
            "102/102 [==============================] - 68s 667ms/step - loss: 0.0062 - val_loss: 0.0106\n",
            "\n",
            "Epoch 00037: val_loss did not improve from 0.00941\n",
            "Epoch 38/50\n",
            "102/102 [==============================] - 68s 665ms/step - loss: 0.0058 - val_loss: 0.0113\n",
            "\n",
            "Epoch 00038: val_loss did not improve from 0.00941\n",
            "Epoch 39/50\n",
            "102/102 [==============================] - 68s 667ms/step - loss: 0.0060 - val_loss: 0.0121\n",
            "\n",
            "Epoch 00039: val_loss did not improve from 0.00941\n",
            "Epoch 40/50\n",
            "102/102 [==============================] - 68s 666ms/step - loss: 0.0055 - val_loss: 0.0135\n",
            "\n",
            "Epoch 00040: val_loss did not improve from 0.00941\n",
            "Epoch 41/50\n",
            "102/102 [==============================] - 68s 666ms/step - loss: 0.0057 - val_loss: 0.0110\n",
            "\n",
            "Epoch 00041: val_loss did not improve from 0.00941\n",
            "Epoch 42/50\n",
            "102/102 [==============================] - 68s 668ms/step - loss: 0.0052 - val_loss: 0.0110\n",
            "\n",
            "Epoch 00042: val_loss did not improve from 0.00941\n",
            "Epoch 43/50\n",
            "102/102 [==============================] - 69s 677ms/step - loss: 0.0049 - val_loss: 0.0105\n",
            "\n",
            "Epoch 00043: val_loss did not improve from 0.00941\n",
            "Epoch 44/50\n",
            "102/102 [==============================] - 69s 675ms/step - loss: 0.0047 - val_loss: 0.0108\n",
            "\n",
            "Epoch 00044: val_loss did not improve from 0.00941\n",
            "Epoch 45/50\n",
            "102/102 [==============================] - 68s 668ms/step - loss: 0.0046 - val_loss: 0.0109\n",
            "\n",
            "Epoch 00045: val_loss did not improve from 0.00941\n",
            "Epoch 46/50\n",
            "102/102 [==============================] - 68s 669ms/step - loss: 0.0044 - val_loss: 0.0115\n",
            "\n",
            "Epoch 00046: val_loss did not improve from 0.00941\n",
            "Epoch 47/50\n",
            "102/102 [==============================] - 69s 677ms/step - loss: 0.0044 - val_loss: 0.0109\n",
            "\n",
            "Epoch 00047: val_loss did not improve from 0.00941\n",
            "Epoch 48/50\n",
            "102/102 [==============================] - 69s 677ms/step - loss: 0.0043 - val_loss: 0.0109\n",
            "\n",
            "Epoch 00048: val_loss did not improve from 0.00941\n",
            "Epoch 49/50\n",
            "102/102 [==============================] - 69s 677ms/step - loss: 0.0043 - val_loss: 0.0109\n",
            "\n",
            "Epoch 00049: val_loss did not improve from 0.00941\n",
            "Epoch 50/50\n",
            "102/102 [==============================] - 69s 676ms/step - loss: 0.0042 - val_loss: 0.0111\n",
            "\n",
            "Epoch 00050: val_loss did not improve from 0.00941\n"
          ]
        }
      ]
    },
    {
      "cell_type": "markdown",
      "metadata": {
        "id": "NGP0dXvg2Lze"
      },
      "source": [
        "## Saved Result Graphic (.json) and Model Trained (h5)"
      ]
    },
    {
      "cell_type": "code",
      "metadata": {
        "id": "4W49P0jq2Zt-"
      },
      "source": [
        "with open(history_path, 'w') as f:\n",
        "    json.dump(H.history, f)\n",
        "auto_encoder.save(model_path)"
      ],
      "execution_count": 9,
      "outputs": []
    },
    {
      "cell_type": "markdown",
      "metadata": {
        "id": "YiaL-r9o3wMW"
      },
      "source": [
        "# Extract Feature Stage"
      ]
    },
    {
      "cell_type": "markdown",
      "metadata": {
        "id": "WDJy4NT43-tO"
      },
      "source": [
        "## Load already trained model and extracting feature\n"
      ]
    },
    {
      "cell_type": "code",
      "metadata": {
        "id": "eN11l1iF4DUW",
        "colab": {
          "base_uri": "https://localhost:8080/"
        },
        "outputId": "91d56fa6-9cf7-4398-b35a-98057a2c00de"
      },
      "source": [
        "auto_encoder = ConvAutoEncoder.build(IMAGE_SIZE[0], IMAGE_SIZE[1], 3)\n",
        "# load our auto_encoder from disk\n",
        "print(\"[INFO] loading auto encoder model...\")\n",
        "auto_encoder.load_weights(checkpoint_path)\n",
        "\n",
        "# create the encoder model which consists of *just* the encoder\n",
        "# portion of the auto encoder\n",
        "encoder = Model(inputs=auto_encoder.input,\n",
        "\toutputs=auto_encoder.get_layer(\"encoded\").output)\n",
        "\n",
        "# quantify the contents of our input images using the encoder\n",
        "print(\"[INFO] encoding images...\")\n",
        "features = encoder.predict(train_x)"
      ],
      "execution_count": 10,
      "outputs": [
        {
          "output_type": "stream",
          "name": "stdout",
          "text": [
            "[INFO] loading auto encoder model...\n",
            "[INFO] encoding images...\n"
          ]
        }
      ]
    },
    {
      "cell_type": "markdown",
      "metadata": {
        "id": "RwRiJP-84VaP"
      },
      "source": [
        "## Create mapping feature included location images, label, feature and indexing number"
      ]
    },
    {
      "cell_type": "code",
      "metadata": {
        "id": "ItHAs9Aj4fm_"
      },
      "source": [
        "indexes = list(range(0, train_x.shape[0]))\n",
        "features_array = [[float(x) for x in y] for y in features]\n",
        "labels = [path.split(\"/\")[3] for path in dataset_train]\n",
        "data = {\"indexes\": indexes, \"features\": features_array, \"locations\": dataset_train, \"labels\":labels}"
      ],
      "execution_count": 11,
      "outputs": []
    },
    {
      "cell_type": "markdown",
      "metadata": {
        "id": "-Hb3KBS-4hS3"
      },
      "source": [
        "## Saved model feature (already mapped) as json"
      ]
    },
    {
      "cell_type": "code",
      "metadata": {
        "id": "gHqqNqSV4mun"
      },
      "source": [
        "with open(feature_path, 'w') as f:\n",
        "    json.dump(data, f)"
      ],
      "execution_count": 12,
      "outputs": []
    },
    {
      "cell_type": "markdown",
      "metadata": {
        "id": "mEKpKr-G6VAO"
      },
      "source": [
        "# Retrieval Test Stage"
      ]
    },
    {
      "cell_type": "markdown",
      "metadata": {
        "id": "JtD8TrpR7cVe"
      },
      "source": [
        "## Euclidean function"
      ]
    },
    {
      "cell_type": "code",
      "metadata": {
        "id": "GZq6CCE77XHA"
      },
      "source": [
        "def euclidean(a, b):\n",
        "\t# compute and return the euclidean distance between two vectors\n",
        "\treturn np.linalg.norm(a - b)"
      ],
      "execution_count": 13,
      "outputs": []
    },
    {
      "cell_type": "markdown",
      "metadata": {
        "id": "bac1xbma7ew-"
      },
      "source": [
        "## Perform search function\n",
        "```\n",
        "Default max result from search is 5\n",
        "```\n",
        "\n",
        "\n"
      ]
    },
    {
      "cell_type": "code",
      "metadata": {
        "id": "H_aMevGo7g--"
      },
      "source": [
        "def perform_search(query_features, indexed_train, max_results=5):\n",
        "\tretrieved = []\n",
        "\tfor idx in range(0, len(indexed_train[\"features\"])):\n",
        "\t\tdistance = euclidean(query_features, indexed_train[\"features\"][idx])\n",
        "\t\tretrieved.append((distance, idx))\n",
        "\tretrieved = sorted(retrieved)[:max_results]\n",
        "\treturn retrieved"
      ],
      "execution_count": 14,
      "outputs": []
    },
    {
      "cell_type": "markdown",
      "metadata": {
        "id": "YgnbuFOa7pi_"
      },
      "source": [
        "## Load test images"
      ]
    },
    {
      "cell_type": "code",
      "metadata": {
        "id": "O7JbLMvV7sCu",
        "colab": {
          "base_uri": "https://localhost:8080/"
        },
        "outputId": "4ee03c9c-2ddb-4788-d86f-e060f99edfd9"
      },
      "source": [
        "print(\"[INFO] indexing file images BreaKHis dataset...\")\n",
        "# indexing file images\n",
        "dataset = []\n",
        "for class_item in class_dir:\n",
        "    cur_dir = os.path.join(base_dataset, 'test', magnification, class_item)\n",
        "    for file in os.listdir(cur_dir):\n",
        "        dataset.append(os.path.join(cur_dir, file))\n",
        "print(\"test len to retrieving:\", len(dataset))\n",
        "print(\"[INFO] load test images BreaKHis dataset...\")\n",
        "#  load images\n",
        "images = []\n",
        "for image_path in dataset:\n",
        "    if \".png\" in image_path:\n",
        "        image = cv2.imread(image_path)\n",
        "        image = cv2.resize(image, IMAGE_SIZE)\n",
        "        images.append(image)"
      ],
      "execution_count": 15,
      "outputs": [
        {
          "output_type": "stream",
          "name": "stdout",
          "text": [
            "[INFO] indexing file images BreaKHis dataset...\n",
            "test len to retrieving: 199\n",
            "[INFO] load test images BreaKHis dataset...\n"
          ]
        }
      ]
    },
    {
      "cell_type": "markdown",
      "metadata": {
        "id": "5Top26XB71IG"
      },
      "source": [
        "## Normalization"
      ]
    },
    {
      "cell_type": "code",
      "metadata": {
        "id": "RzXdG9GH7v4O",
        "colab": {
          "base_uri": "https://localhost:8080/"
        },
        "outputId": "73b4a146-04ad-47b6-a62f-eed87b4bae38"
      },
      "source": [
        "# normalization\n",
        "print(\"[INFO] normalization...\")\n",
        "test_x = np.array(images).astype(\"float32\") / 255.0"
      ],
      "execution_count": 16,
      "outputs": [
        {
          "output_type": "stream",
          "name": "stdout",
          "text": [
            "[INFO] normalization...\n"
          ]
        }
      ]
    },
    {
      "cell_type": "markdown",
      "metadata": {
        "id": "zWU1LO2L725_"
      },
      "source": [
        "## Load the model and feature already extracted"
      ]
    },
    {
      "cell_type": "code",
      "metadata": {
        "id": "l0yvC_Fm8Bo_",
        "colab": {
          "base_uri": "https://localhost:8080/"
        },
        "outputId": "68fc4e0f-d4b1-4fa7-abb3-15c7d8df01a9"
      },
      "source": [
        "auto_encoder = ConvAutoEncoder.build(IMAGE_SIZE[0], IMAGE_SIZE[1], 3)\n",
        "# load our auto_encoder from disk\n",
        "print(\"[INFO] loading auto encoder model...\")\n",
        "auto_encoder.load_weights(checkpoint_path)\n",
        "with open(feature_path) as f:\n",
        "  training_indexed = json.load(f)\n",
        "\n",
        "# create the encoder model which consists of *just* the encoder\n",
        "# portion of the auto encoder\n",
        "encoder = Model(inputs=auto_encoder.input,\n",
        "\toutputs=auto_encoder.get_layer(\"encoded\").output)\n",
        "\n",
        "# quantify the contents of our input images using the encoder\n",
        "print(\"[INFO] encoding images...\")\n",
        "features_retrieved = encoder.predict(test_x)"
      ],
      "execution_count": 24,
      "outputs": [
        {
          "output_type": "stream",
          "name": "stdout",
          "text": [
            "WARNING:tensorflow:Unresolved object in checkpoint: (root).optimizer\n",
            "WARNING:tensorflow:Unresolved object in checkpoint: (root).optimizer.iter\n",
            "WARNING:tensorflow:Unresolved object in checkpoint: (root).optimizer.beta_1\n",
            "WARNING:tensorflow:Unresolved object in checkpoint: (root).optimizer.beta_2\n",
            "WARNING:tensorflow:Unresolved object in checkpoint: (root).optimizer.decay\n",
            "WARNING:tensorflow:Unresolved object in checkpoint: (root).optimizer.learning_rate\n",
            "WARNING:tensorflow:Unresolved object in checkpoint: (root).optimizer's state 'm' for (root).layer_with_weights-0.kernel\n",
            "WARNING:tensorflow:Unresolved object in checkpoint: (root).optimizer's state 'm' for (root).layer_with_weights-0.bias\n",
            "WARNING:tensorflow:Unresolved object in checkpoint: (root).optimizer's state 'm' for (root).layer_with_weights-1.gamma\n",
            "WARNING:tensorflow:Unresolved object in checkpoint: (root).optimizer's state 'm' for (root).layer_with_weights-1.beta\n",
            "WARNING:tensorflow:Unresolved object in checkpoint: (root).optimizer's state 'm' for (root).layer_with_weights-2.kernel\n",
            "WARNING:tensorflow:Unresolved object in checkpoint: (root).optimizer's state 'm' for (root).layer_with_weights-2.bias\n",
            "WARNING:tensorflow:Unresolved object in checkpoint: (root).optimizer's state 'm' for (root).layer_with_weights-3.kernel\n",
            "WARNING:tensorflow:Unresolved object in checkpoint: (root).optimizer's state 'm' for (root).layer_with_weights-3.bias\n",
            "WARNING:tensorflow:Unresolved object in checkpoint: (root).optimizer's state 'm' for (root).layer_with_weights-4.kernel\n",
            "WARNING:tensorflow:Unresolved object in checkpoint: (root).optimizer's state 'm' for (root).layer_with_weights-4.bias\n",
            "WARNING:tensorflow:Unresolved object in checkpoint: (root).optimizer's state 'm' for (root).layer_with_weights-5.gamma\n",
            "WARNING:tensorflow:Unresolved object in checkpoint: (root).optimizer's state 'm' for (root).layer_with_weights-5.beta\n",
            "WARNING:tensorflow:Unresolved object in checkpoint: (root).optimizer's state 'm' for (root).layer_with_weights-6.kernel\n",
            "WARNING:tensorflow:Unresolved object in checkpoint: (root).optimizer's state 'm' for (root).layer_with_weights-6.bias\n",
            "WARNING:tensorflow:Unresolved object in checkpoint: (root).optimizer's state 'v' for (root).layer_with_weights-0.kernel\n",
            "WARNING:tensorflow:Unresolved object in checkpoint: (root).optimizer's state 'v' for (root).layer_with_weights-0.bias\n",
            "WARNING:tensorflow:Unresolved object in checkpoint: (root).optimizer's state 'v' for (root).layer_with_weights-1.gamma\n",
            "WARNING:tensorflow:Unresolved object in checkpoint: (root).optimizer's state 'v' for (root).layer_with_weights-1.beta\n",
            "WARNING:tensorflow:Unresolved object in checkpoint: (root).optimizer's state 'v' for (root).layer_with_weights-2.kernel\n",
            "WARNING:tensorflow:Unresolved object in checkpoint: (root).optimizer's state 'v' for (root).layer_with_weights-2.bias\n",
            "WARNING:tensorflow:Unresolved object in checkpoint: (root).optimizer's state 'v' for (root).layer_with_weights-3.kernel\n",
            "WARNING:tensorflow:Unresolved object in checkpoint: (root).optimizer's state 'v' for (root).layer_with_weights-3.bias\n",
            "WARNING:tensorflow:Unresolved object in checkpoint: (root).optimizer's state 'v' for (root).layer_with_weights-4.kernel\n",
            "WARNING:tensorflow:Unresolved object in checkpoint: (root).optimizer's state 'v' for (root).layer_with_weights-4.bias\n",
            "WARNING:tensorflow:Unresolved object in checkpoint: (root).optimizer's state 'v' for (root).layer_with_weights-5.gamma\n",
            "WARNING:tensorflow:Unresolved object in checkpoint: (root).optimizer's state 'v' for (root).layer_with_weights-5.beta\n",
            "WARNING:tensorflow:Unresolved object in checkpoint: (root).optimizer's state 'v' for (root).layer_with_weights-6.kernel\n",
            "WARNING:tensorflow:Unresolved object in checkpoint: (root).optimizer's state 'v' for (root).layer_with_weights-6.bias\n",
            "WARNING:tensorflow:A checkpoint was restored (e.g. tf.train.Checkpoint.restore or tf.keras.Model.load_weights) but not all checkpointed values were used. See above for specific issues. Use expect_partial() on the load status object, e.g. tf.train.Checkpoint.restore(...).expect_partial(), to silence these warnings, or use assert_consumed() to make the check explicit. See https://www.tensorflow.org/guide/checkpoint#loading_mechanics for details.\n",
            "[INFO] loading auto encoder model...\n",
            "[INFO] encoding images...\n"
          ]
        }
      ]
    },
    {
      "cell_type": "markdown",
      "metadata": {
        "id": "VFt2q2eg8KkO"
      },
      "source": [
        "## Perform search and retrieval based test images"
      ]
    },
    {
      "cell_type": "code",
      "metadata": {
        "id": "SDoI3M9P8QXu",
        "colab": {
          "base_uri": "https://localhost:8080/"
        },
        "outputId": "85393af2-c207-4e26-92b8-8765aaddbc5f"
      },
      "source": [
        "query_indexes = list(range(0, test_x.shape[0]))\n",
        "label_builder = list(np.unique(training_indexed[\"labels\"]))\n",
        "class_builder = {label_unique:[] for label_unique in label_builder}\n",
        "recalls = copy.deepcopy(class_builder)\n",
        "precisions = copy.deepcopy(class_builder)\n",
        "# loop over the testing indexes\n",
        "for i in query_indexes:\n",
        "    queryFeatures = features_retrieved[i]\n",
        "    results = perform_search(queryFeatures, training_indexed, max_results=5)\n",
        "    labels_ret = [training_indexed[\"labels\"][r[1]] for r in results]\n",
        "    label_true = dataset[i].split(\"/\")[3]\n",
        "    label_trues = [label_true for _ in labels_ret]\n",
        "    recall = metric.recall_score(label_trues, labels_ret, average='weighted')\n",
        "    precision = metric.precision_score(label_trues, labels_ret, average='weighted')\n",
        "    recalls[label_true].append(recall)\n",
        "    precisions[label_true].append(precision)"
      ],
      "execution_count": 27,
      "outputs": [
        {
          "output_type": "stream",
          "name": "stderr",
          "text": [
            "/usr/local/lib/python3.7/dist-packages/sklearn/metrics/_classification.py:1272: UndefinedMetricWarning: Recall is ill-defined and being set to 0.0 in labels with no true samples. Use `zero_division` parameter to control this behavior.\n",
            "  _warn_prf(average, modifier, msg_start, len(result))\n",
            "/usr/local/lib/python3.7/dist-packages/sklearn/metrics/_classification.py:1272: UndefinedMetricWarning: Precision is ill-defined and being set to 0.0 in labels with no predicted samples. Use `zero_division` parameter to control this behavior.\n",
            "  _warn_prf(average, modifier, msg_start, len(result))\n"
          ]
        }
      ]
    },
    {
      "cell_type": "markdown",
      "metadata": {
        "id": "UA6W88ki8SLP"
      },
      "source": [
        "## Print the recall and precision values"
      ]
    },
    {
      "cell_type": "code",
      "metadata": {
        "id": "1ViD6suW8WnW",
        "colab": {
          "base_uri": "https://localhost:8080/"
        },
        "outputId": "7e832de0-88be-4f64-9ef9-90d4f5c05b73"
      },
      "source": [
        "print(\"recall values:\")\n",
        "comb_recall, comb_precision = [], []\n",
        "for key in recalls.keys():\n",
        "    average_val = np.average(recalls[key])\n",
        "    print(key, average_val)\n",
        "    comb_recall.append(average_val)\n",
        "print(\"combined recall\", np.average(comb_recall))\n",
        "\n",
        "print(\"\\nprecision values:\")\n",
        "for key in precisions.keys():\n",
        "    average_val = np.average(precisions[key])\n",
        "    print(key, average_val)\n",
        "    comb_precision.append(average_val)\n",
        "print(\"combined precision\", np.average(comb_precision))"
      ],
      "execution_count": 28,
      "outputs": [
        {
          "output_type": "stream",
          "name": "stdout",
          "text": [
            "recall values:\n",
            "adenosis 0.3090909090909091\n",
            "ductal_carcinoma 0.7777777777777778\n",
            "fibroadenoma 0.672\n",
            "lobular_carcinoma 0.48000000000000004\n",
            "mucinous_carcinoma 0.32999999999999996\n",
            "papillary_carcinoma 0.1571428571428571\n",
            "phyllodes_tumor 0.39999999999999997\n",
            "tubular_adenoma 0.18571428571428575\n",
            "combined recall 0.41396572871572873\n",
            "\n",
            "precision values:\n",
            "adenosis 0.8181818181818182\n",
            "ductal_carcinoma 0.9666666666666667\n",
            "fibroadenoma 0.88\n",
            "lobular_carcinoma 0.8666666666666667\n",
            "mucinous_carcinoma 0.8\n",
            "papillary_carcinoma 0.35714285714285715\n",
            "phyllodes_tumor 0.9\n",
            "tubular_adenoma 0.5714285714285714\n",
            "combined precision 0.7700108225108225\n"
          ]
        }
      ]
    },
    {
      "cell_type": "code",
      "metadata": {
        "id": "sCxOAAUTwG7D"
      },
      "source": [
        ""
      ],
      "execution_count": 19,
      "outputs": []
    }
  ]
}